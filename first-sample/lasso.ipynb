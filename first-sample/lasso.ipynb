{
 "cells": [
  {
   "cell_type": "code",
   "execution_count": 23,
   "id": "d95a2107-fa2b-4c4b-8661-bc1f45fcc94c",
   "metadata": {},
   "outputs": [],
   "source": [
    "import pyreadr\n",
    "import numpy as np\n",
    "import pandas as pd\n",
    "import matplotlib.pyplot as plt\n",
    "import statsmodels.api as sm\n",
    "from statsmodels.regression.linear_model import OLS\n",
    "from statsmodels.tools import add_constant\n",
    "from sklearn.linear_model import LinearRegression as lm\n",
    "from sklearn.preprocessing import scale\n",
    "from sklearn.decomposition import PCA\n",
    "\n",
    "embed = lambda x, d : np.hstack([x.shift(i) for i in range(d)])[d - 1:] # R's embed(x, d)\n",
    "\n",
    "Y = pyreadr.read_r('rawdata.rda')['dados']\n",
    "nprev=132"
   ]
  },
  {
   "cell_type": "code",
   "execution_count": 2,
   "id": "daf9f6a6-f435-42aa-b40e-271f892a7d54",
   "metadata": {},
   "outputs": [],
   "source": [
    "indice = 0\n",
    "lag = 1\n",
    "alpha = 1\n",
    "type = 'lasso'"
   ]
  },
  {
   "cell_type": "code",
   "execution_count": 7,
   "id": "1c2af6a7-6bfb-45ba-90ee-15da8a6ee5ea",
   "metadata": {},
   "outputs": [],
   "source": [
    "    coef = np.empty((nprev, 21 + (Y.shape[1] - 1) * 4))*np.nan\n",
    "    pred = np.empty(nprev)*np.nan"
   ]
  },
  {
   "cell_type": "code",
   "execution_count": null,
   "id": "009c365f-02f2-480c-a97b-d4d1db779aee",
   "metadata": {},
   "outputs": [],
   "source": [
    "for i in range(nprev):\n",
    "        window = Y.iloc[i:len(Y)-(nprev-i), [indice]] # The last obs. is not inclued in the last iter.\n",
    "        model, pred[i], coef[i] = runlasso(window, lag)\n",
    "    "
   ]
  },
  {
   "cell_type": "code",
   "execution_count": null,
   "id": "27e6fadd-d99b-4dc5-bd37-e6cb2baa25b3",
   "metadata": {},
   "outputs": [],
   "source": [
    "window = "
   ]
  },
  {
   "cell_type": "code",
   "execution_count": 65,
   "id": "9d93c6fd-0958-4668-af93-fc58eb4ecc38",
   "metadata": {},
   "outputs": [],
   "source": [
    "pca = PCA()\n",
    "SCALE = scale(Y, with_mean=True, with_std=False)\n",
    "pca.fit(SCALE)\n",
    "\n",
    "Y2 = pd.concat([Y, pd.DataFrame(pca.transform(SCALE)[:, :4], index=Y.index)], axis=1)\n",
    "aux = embed(Y2, lag + 4)\n",
    "\n",
    "y = aux[:, indice]\n",
    "X = np.delete(aux, range(Y2.shape[1] * lag), axis=1)"
   ]
  },
  {
   "cell_type": "code",
   "execution_count": 89,
   "id": "63a91e5b-1664-438d-ba3c-c9538c3e055f",
   "metadata": {},
   "outputs": [],
   "source": [
    "if lag == 1:\n",
    "    out = aux[-1, :X.shape[1]]\n",
    "else:\n",
    "    out = np.delete(aux, range(Y2.shape[1] * (lag-1)), axis=1)\n",
    "    out = out[-1, :X.shape[1]]"
   ]
  },
  {
   "cell_type": "code",
   "execution_count": 90,
   "id": "65a2506f-ebe1-4a07-8dee-55365398279a",
   "metadata": {},
   "outputs": [],
   "source": [
    "    y = y[:len(y)-lag+1]\n",
    "    X = X[:len(X)-lag+1]"
   ]
  },
  {
   "cell_type": "code",
   "execution_count": null,
   "id": "083681a0-eed1-461f-89d7-0ab5692b70bc",
   "metadata": {},
   "outputs": [],
   "source": []
  },
  {
   "cell_type": "code",
   "execution_count": null,
   "id": "5b4a626d-54b6-42ff-94eb-c0d17fbf6e28",
   "metadata": {},
   "outputs": [],
   "source": [
    "runlasso=function(Y,indice,lag,alpha=1,type=\"lasso\"){\n",
    "  comp=princomp(scale(Y,scale=FALSE))\n",
    "  Y2=cbind(Y,comp$scores[,1:4])\n",
    "  aux=embed(Y2,4+lag)\n",
    "  y=aux[,indice]\n",
    "  X=aux[,-c(1:(ncol(Y2)*lag))]  \n",
    "  \n",
    "  if(lag==1){\n",
    "    X.out=tail(aux,1)[1:ncol(X)]  \n",
    "  }else{\n",
    "    X.out=aux[,-c(1:(ncol(Y2)*(lag-1)))]\n",
    "    X.out=tail(X.out,1)[1:ncol(X)]\n",
    "  }\n",
    "  \n",
    "  y = y[1:(length(y)-lag+1)]\n",
    "  X = X[1:(nrow(X)-lag+1),]\n",
    "  \n",
    "  model=ic.glmnet(X,y,alpha = alpha)\n",
    "  coef=model$coef\n",
    "  if(type==\"adalasso\"){\n",
    "    penalty=(abs(coef[-1])+1/sqrt(length(y)))^(-1)\n",
    "    model=ic.glmnet(X,y,penalty.factor = penalty,alpha=alpha)\n",
    "  }\n",
    "  \n",
    "  if(type==\"fal\"){\n",
    "    taus=c(seq(0.1,1,0.1),1.25,1.5,2,3,4,5,7,10)\n",
    "    alphas=seq(0,1,0.1)\n",
    "    bb=Inf\n",
    "    for(alpha in alphas){\n",
    "      m0=ic.glmnet(X,y,alpha = alpha)\n",
    "      coef=m0$coef\n",
    "      for(tau in taus){\n",
    "        penalty=(abs(coef[-1])+1/sqrt(length(y)))^(-tau)\n",
    "        m=ic.glmnet(X,y,penalty.factor = penalty)\n",
    "        crit=m$bic\n",
    "        if(crit<bb){\n",
    "          model=m\n",
    "          bb=crit\n",
    "        }\n",
    "      }\n",
    "    }\n",
    "  }\n",
    "  pred=predict(model,X.out)\n",
    "  \n",
    "  return(list(\"model\"=model,\"pred\"=pred))\n",
    "}\n",
    "\n",
    "\n",
    "lasso.rolling.window=function(Y,nprev,indice=1,lag=1,alpha=1,type=\"lasso\"){\n",
    "  \n",
    "  save.coef=matrix(NA,nprev,21+ncol(Y[,-1])*4)\n",
    "  save.pred=matrix(NA,nprev,1)\n",
    "  for(i in nprev:1){\n",
    "    Y.window=Y[(1+nprev-i):(nrow(Y)-i),]\n",
    "    lasso=runlasso(Y.window,indice,lag,alpha,type)\n",
    "    save.coef[(1+nprev-i),]=lasso$model$coef\n",
    "    save.pred[(1+nprev-i),]=lasso$pred\n",
    "    cat(\"iteration\",(1+nprev-i),\"\\n\")\n",
    "  }\n",
    "  \n",
    "  real=Y[,indice]\n",
    "  plot(real,type=\"l\")\n",
    "  lines(c(rep(NA,length(real)-nprev),save.pred),col=\"red\")\n",
    "  \n",
    "  rmse=sqrt(mean((tail(real,nprev)-save.pred)^2))\n",
    "  mae=mean(abs(tail(real,nprev)-save.pred))\n",
    "  errors=c(\"rmse\"=rmse,\"mae\"=mae)\n",
    "  \n",
    "  return(list(\"pred\"=save.pred,\"coef\"=save.coef,\"errors\"=errors))\n",
    "}\n",
    "\n",
    "\n",
    "## == ##\n",
    "runpols=function(Y,indice,lag,coef){\n",
    "  \n",
    "  comp=princomp(scale(Y,scale=FALSE))\n",
    "  Y2=cbind(Y,comp$scores[,1:4])\n",
    "  aux=embed(Y2,4+lag)\n",
    "  y=aux[,indice]\n",
    "  X=aux[,-c(1:(ncol(Y2)*lag))]  \n",
    "  \n",
    "  if(lag==1){\n",
    "    X.out=tail(aux,1)[1:ncol(X)]  \n",
    "  }else{\n",
    "    X.out=aux[,-c(1:(ncol(Y2)*(lag-1)))]\n",
    "    X.out=tail(X.out,1)[1:ncol(X)]\n",
    "  }\n",
    "  \n",
    "  respo=X[,which(coef[-1]!=0)]\n",
    "  if(length(respo)==0){\n",
    "    model=lm(y ~ 1)\n",
    "  }else{\n",
    "    model=lm(y ~ respo)\n",
    "  }\n",
    "  \n",
    "  pred=c(1,X.out[which(coef[-1]!=0)])%*%coef(model)\n",
    "  \n",
    "  return(list(\"model\"=model,\"pred\"=pred))\n",
    "}\n",
    "\n",
    "\n",
    "pols.rolling.window=function(Y,nprev,indice=1,lag=1,coef){\n",
    "  \n",
    "  save.pred=matrix(NA,nprev,1)\n",
    "  for(i in nprev:1){\n",
    "    Y.window=Y[(1+nprev-i):(nrow(Y)-i),]\n",
    "    m=runpols(Y.window,indice,lag,coef[(1+nprev-i),])\n",
    "    save.pred[(1+nprev-i),]=m$pred\n",
    "    cat(\"iteration\",(1+nprev-i),\"\\n\")\n",
    "  }\n",
    "  \n",
    "  real=Y[,indice]\n",
    "  plot(real,type=\"l\")\n",
    "  lines(c(rep(NA,length(real)-nprev),save.pred),col=\"red\")\n",
    "  \n",
    "  rmse=sqrt(mean((tail(real,nprev)-save.pred)^2))\n",
    "  mae=mean(abs(tail(real,nprev)-save.pred))\n",
    "  errors=c(\"rmse\"=rmse,\"mae\"=mae)\n",
    "  \n",
    "  return(list(\"pred\"=save.pred,\"errors\"=errors))\n",
    "}\n"
   ]
  },
  {
   "cell_type": "code",
   "execution_count": null,
   "id": "c6a24e45-2b02-4d24-9c4b-b5c6bb1615cc",
   "metadata": {},
   "outputs": [],
   "source": []
  },
  {
   "cell_type": "code",
   "execution_count": null,
   "id": "75fed1f1-c8a8-42f5-a50a-56b48d9da8e9",
   "metadata": {},
   "outputs": [],
   "source": []
  },
  {
   "cell_type": "code",
   "execution_count": null,
   "id": "78026c56-2916-437e-a24a-071f317a78c1",
   "metadata": {},
   "outputs": [],
   "source": []
  },
  {
   "cell_type": "code",
   "execution_count": null,
   "id": "82758624-a941-416c-882a-975851d1b9c3",
   "metadata": {},
   "outputs": [],
   "source": []
  },
  {
   "cell_type": "code",
   "execution_count": 92,
   "id": "61b0549a-28d9-4542-8408-deb38ad5279e",
   "metadata": {},
   "outputs": [
    {
     "ename": "ModuleNotFoundError",
     "evalue": "No module named 'glmnet'",
     "output_type": "error",
     "traceback": [
      "\u001b[1;31m---------------------------------------------------------------------------\u001b[0m",
      "\u001b[1;31mModuleNotFoundError\u001b[0m                       Traceback (most recent call last)",
      "\u001b[1;32m<ipython-input-92-61e9fa164305>\u001b[0m in \u001b[0;36m<module>\u001b[1;34m\u001b[0m\n\u001b[0;32m      5\u001b[0m \u001b[1;32mimport\u001b[0m \u001b[0mmatplotlib\u001b[0m\u001b[1;33m.\u001b[0m\u001b[0mpyplot\u001b[0m \u001b[1;32mas\u001b[0m \u001b[0mplt\u001b[0m\u001b[1;33m\u001b[0m\u001b[1;33m\u001b[0m\u001b[0m\n\u001b[0;32m      6\u001b[0m \u001b[1;33m\u001b[0m\u001b[0m\n\u001b[1;32m----> 7\u001b[1;33m \u001b[1;32mimport\u001b[0m \u001b[0mglmnet\u001b[0m\u001b[1;33m\u001b[0m\u001b[1;33m\u001b[0m\u001b[0m\n\u001b[0m\u001b[0;32m      8\u001b[0m \u001b[1;33m\u001b[0m\u001b[0m\n\u001b[0;32m      9\u001b[0m \u001b[0mboston\u001b[0m \u001b[1;33m=\u001b[0m \u001b[0mload_boston\u001b[0m\u001b[1;33m(\u001b[0m\u001b[1;33m)\u001b[0m\u001b[1;33m\u001b[0m\u001b[1;33m\u001b[0m\u001b[0m\n",
      "\u001b[1;31mModuleNotFoundError\u001b[0m: No module named 'glmnet'"
     ]
    }
   ],
   "source": [
    "import numpy as np\n",
    "from sklearn.datasets import load_boston, load_diabetes\n",
    "from sklearn.linear_model import _coordinate_descent as cd\n",
    "\n",
    "import matplotlib.pyplot as plt\n",
    "\n",
    "import glmnet\n",
    "\n",
    "boston = load_boston()\n",
    "diabetes = load_diabetes()\n",
    "X, y = boston['data'], boston['target']\n",
    "# X, y = diabetes['data'], diabetes['target']\n",
    "\n",
    "lambdas = np.logspace(np.log10(1e-4), np.log10(35), 100)"
   ]
  },
  {
   "cell_type": "code",
   "execution_count": null,
   "id": "dfeca61f-4633-4808-8faf-15d66e483848",
   "metadata": {},
   "outputs": [],
   "source": []
  }
 ],
 "metadata": {
  "kernelspec": {
   "display_name": "Python 3",
   "language": "python",
   "name": "python3"
  },
  "language_info": {
   "codemirror_mode": {
    "name": "ipython",
    "version": 3
   },
   "file_extension": ".py",
   "mimetype": "text/x-python",
   "name": "python",
   "nbconvert_exporter": "python",
   "pygments_lexer": "ipython3",
   "version": "3.8.8"
  }
 },
 "nbformat": 4,
 "nbformat_minor": 5
}
